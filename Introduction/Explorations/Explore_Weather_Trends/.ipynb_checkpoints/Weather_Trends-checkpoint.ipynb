{
 "cells": [
  {
   "cell_type": "markdown",
   "metadata": {},
   "source": [
    "# Weather Trends Exploration \n",
    "\n",
    "This is a simplified exploration of Weather Trends Dataset, Investigating the Temperatures in city for a number of years Vs the global trend for that year. Since i live in Egypt i will be choosing cities like Cairo. So lets start our Exploration.\n",
    "    \n",
    "### Content\n",
    "1. Introduction \n",
    "2. Loading the Dataset \n",
    "3. Visualizations \n",
    "4. Conclusions\n",
    "\n",
    "## Introduction \n",
    "\n",
    "The Dataset is provided on a workspace in Udacity\\`s Data Analysis Nano Degree, i extracted the dataset using sql, extracting only data relevant to the cities we proposed (Cairo) and it\\`s average temperature per year and the global average temperature that year. The database consists of 3 tables.\n",
    "* city_list - This contains a list of cities and countries in the database. Look through them in order to find the city nearest to you.\n",
    "\n",
    "    `city_data : year, city, country, avg_temp`\n",
    "* city_data - This contains the average temperatures for each city by year (ºC).\n",
    "\n",
    "    `city_list : city, country`\n",
    "* global_data - This contains the average global temperatures by year (ºC).\n",
    "\n",
    "    `global_data : avg_temp, year`\n",
    "#### SQL Code \n",
    "  `SELECT city, city_data.avg_temp AS city_temp, global_data.avg_temp AS global_temp, city_data.year\n",
    "    FROM city_data\n",
    "    JOIN global_data\n",
    "    ON city_data.year = global_data.year\n",
    "    WHERE city_data.city = 'Cairo';\n",
    "`"
   ]
  },
  {
   "cell_type": "markdown",
   "metadata": {},
   "source": [
    "## Loading the Dataset"
   ]
  },
  {
   "cell_type": "code",
   "execution_count": 25,
   "metadata": {},
   "outputs": [],
   "source": [
    "import pandas as pd\n",
    "import matplotlib.pyplot as plt"
   ]
  },
  {
   "cell_type": "code",
   "execution_count": 26,
   "metadata": {
    "scrolled": true
   },
   "outputs": [
    {
     "data": {
      "text/html": [
       "<div>\n",
       "<style scoped>\n",
       "    .dataframe tbody tr th:only-of-type {\n",
       "        vertical-align: middle;\n",
       "    }\n",
       "\n",
       "    .dataframe tbody tr th {\n",
       "        vertical-align: top;\n",
       "    }\n",
       "\n",
       "    .dataframe thead th {\n",
       "        text-align: right;\n",
       "    }\n",
       "</style>\n",
       "<table border=\"1\" class=\"dataframe\">\n",
       "  <thead>\n",
       "    <tr style=\"text-align: right;\">\n",
       "      <th></th>\n",
       "      <th>city</th>\n",
       "      <th>city_temp</th>\n",
       "      <th>global_temp</th>\n",
       "      <th>year</th>\n",
       "    </tr>\n",
       "  </thead>\n",
       "  <tbody>\n",
       "    <tr>\n",
       "      <th>0</th>\n",
       "      <td>Cairo</td>\n",
       "      <td>17.11</td>\n",
       "      <td>7.63</td>\n",
       "      <td>1808</td>\n",
       "    </tr>\n",
       "    <tr>\n",
       "      <th>1</th>\n",
       "      <td>Cairo</td>\n",
       "      <td>19.87</td>\n",
       "      <td>7.08</td>\n",
       "      <td>1809</td>\n",
       "    </tr>\n",
       "    <tr>\n",
       "      <th>2</th>\n",
       "      <td>Cairo</td>\n",
       "      <td>19.93</td>\n",
       "      <td>6.92</td>\n",
       "      <td>1810</td>\n",
       "    </tr>\n",
       "    <tr>\n",
       "      <th>3</th>\n",
       "      <td>Cairo</td>\n",
       "      <td>20.00</td>\n",
       "      <td>6.86</td>\n",
       "      <td>1811</td>\n",
       "    </tr>\n",
       "    <tr>\n",
       "      <th>4</th>\n",
       "      <td>Cairo</td>\n",
       "      <td>19.93</td>\n",
       "      <td>7.05</td>\n",
       "      <td>1812</td>\n",
       "    </tr>\n",
       "  </tbody>\n",
       "</table>\n",
       "</div>"
      ],
      "text/plain": [
       "    city  city_temp  global_temp  year\n",
       "0  Cairo      17.11         7.63  1808\n",
       "1  Cairo      19.87         7.08  1809\n",
       "2  Cairo      19.93         6.92  1810\n",
       "3  Cairo      20.00         6.86  1811\n",
       "4  Cairo      19.93         7.05  1812"
      ]
     },
     "execution_count": 26,
     "metadata": {},
     "output_type": "execute_result"
    }
   ],
   "source": [
    "df = pd.read_csv('results.csv')\n",
    "df.head(5)"
   ]
  },
  {
   "cell_type": "code",
   "execution_count": 27,
   "metadata": {},
   "outputs": [
    {
     "name": "stdout",
     "output_type": "stream",
     "text": [
      "<class 'pandas.core.frame.DataFrame'>\n",
      "RangeIndex: 206 entries, 0 to 205\n",
      "Data columns (total 4 columns):\n",
      " #   Column       Non-Null Count  Dtype  \n",
      "---  ------       --------------  -----  \n",
      " 0   city         206 non-null    object \n",
      " 1   city_temp    206 non-null    float64\n",
      " 2   global_temp  206 non-null    float64\n",
      " 3   year         206 non-null    int64  \n",
      "dtypes: float64(2), int64(1), object(1)\n",
      "memory usage: 6.6+ KB\n"
     ]
    }
   ],
   "source": [
    "df.info()"
   ]
  },
  {
   "cell_type": "markdown",
   "metadata": {},
   "source": [
    "## Visualizations "
   ]
  },
  {
   "cell_type": "code",
   "execution_count": 28,
   "metadata": {},
   "outputs": [],
   "source": [
    "# Apply moving Average \n",
    "# Set Window Size \n",
    "window_size = 10\n",
    "\n",
    "# Get MA of city temperatures for Cairo\n",
    "city_windows = df.city_temp.rolling(window_size)\n",
    "city_moving_avg = city_windows.mean()\n",
    "\n",
    "# Get MA of Global Temperatures\n",
    "glob_windows = df.global_temp.rolling(window_size)\n",
    "glob_moving_avg = glob_windows.mean()"
   ]
  },
  {
   "cell_type": "code",
   "execution_count": 31,
   "metadata": {},
   "outputs": [
    {
     "data": {
      "image/png": "[encoded data removed]",
      "text/plain": [
       "<Figure size 720x504 with 1 Axes>"
      ]
     },
     "metadata": {
      "needs_background": "light"
     },
     "output_type": "display_data"
    }
   ],
   "source": [
    "# Prepare plotting \n",
    "fig, ax = plt.subplots(figsize=(10, 7))\n",
    "\n",
    "# Plot Customizations\n",
    "ax.plot(cairo_df.year, city_moving_avg, label='City Temp')\n",
    "ax.plot(cairo_df.year, glob_moving_avg, label='Global Temp')\n",
    "\n",
    "ax.set_xlabel('Year', fontsize=20)\n",
    "ax.set_ylabel('Avg. Temp. ºC', fontsize=20)\n",
    "ax.set_title(\"Cairo Temperatures VS Global Temperatres\", fontsize=30)\n",
    "ax.legend()\n",
    "\n",
    "# Show Plot\n",
    "plt.show()"
   ]
  },
  {
   "cell_type": "markdown",
   "metadata": {},
   "source": [
    "## Conclusions "
   ]
  },
  {
   "cell_type": "markdown",
   "metadata": {},
   "source": [
    "* It seems that the average temperatures in cairo are way higher that the average global temperatures.\n",
    "* Cairo\\`s Temperature change over time is minimal as it seems to follow the same trend over the years.\n",
    "* It also seems that the global and local temperatures are consistent over the years.\n",
    "* In the past few years the trend appears to be increasing for both global and local temperatures."
   ]
  }
 ],
 "metadata": {
  "kernelspec": {
   "display_name": "Python 3",
   "language": "python",
   "name": "python3"
  },
  "language_info": {
   "codemirror_mode": {
    "name": "ipython",
    "version": 3
   },
   "file_extension": ".py",
   "mimetype": "text/x-python",
   "name": "python",
   "nbconvert_exporter": "python",
   "pygments_lexer": "ipython3",
   "version": "3.8.3"
  }
 },
 "nbformat": 4,
 "nbformat_minor": 4
}
